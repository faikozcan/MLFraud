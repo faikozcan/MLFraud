{
  "nbformat": 4,
  "nbformat_minor": 0,
  "metadata": {
    "colab": {
      "name": "MLFraud.ipynb",
      "provenance": [],
      "collapsed_sections": [],
      "authorship_tag": "ABX9TyMX5TiLbPIfmNxBfULDhJwp",
      "include_colab_link": true
    },
    "kernelspec": {
      "name": "python3",
      "display_name": "Python 3"
    }
  },
  "cells": [
    {
      "cell_type": "markdown",
      "metadata": {
        "id": "view-in-github",
        "colab_type": "text"
      },
      "source": [
        "<a href=\"https://colab.research.google.com/github/faikozcan/MLFraud/blob/main/MLFraud.ipynb\" target=\"_parent\"><img src=\"https://colab.research.google.com/assets/colab-badge.svg\" alt=\"Open In Colab\"/></a>"
      ]
    },
    {
      "cell_type": "markdown",
      "metadata": {
        "id": "QvQLKEyZtkLh"
      },
      "source": [
        "Import Data With  Request To GitHub And Read Columns From CSV"
      ]
    },
    {
      "cell_type": "code",
      "metadata": {
        "id": "PGh53IKgtSk7"
      },
      "source": [
        "import pandas as pd\n",
        "import requests\n",
        "import io\n",
        "import matplotlib as mpl\n",
        "import matplotlib.pyplot as plt\n",
        "import numpy as np\n",
        "import seaborn as sns\n",
        "from sklearn.model_selection import train_test_split\n",
        "from keras.models import Sequential\n",
        "from keras.layers import Dense, Activation, Flatten\n",
        "from sklearn.ensemble import RandomForestClassifier\n",
        "from sklearn.metrics import f1_score\n",
        "from sklearn.metrics import accuracy_score\n",
        "from keras.callbacks import ModelCheckpoint\n",
        "from sklearn.metrics import accuracy_score\n",
        "from sklearn.preprocessing import OneHotEncoder \n",
        "from sklearn.compose import ColumnTransformer \n",
        "from sklearn.preprocessing import LabelEncoder \n",
        "\n",
        "\n",
        "\n",
        "url=\"https://raw.githubusercontent.com/faikozcan/MLFraud/main/dataFiles/Fraud_Data.csv\"\n",
        "s=requests.get(url).content\n",
        "c=pd.read_csv(io.StringIO(s.decode('utf-8')),sep = \",\",usecols=[\"user_id\",\"device_id\",\"source\",\"browser\",\"purchase_value\",\"sex\",\"age\",\"class\"])\n",
        "  "
      ],
      "execution_count": 2,
      "outputs": []
    },
    {
      "cell_type": "code",
      "metadata": {
        "id": "4kyMqKAwfFSc",
        "outputId": "4049db71-74a4-439f-ce9a-f4fabe509bbe",
        "colab": {
          "base_uri": "https://localhost:8080/",
          "height": 284
        }
      },
      "source": [
        "c.describe()"
      ],
      "execution_count": 7,
      "outputs": [
        {
          "output_type": "execute_result",
          "data": {
            "text/html": [
              "<div>\n",
              "<style scoped>\n",
              "    .dataframe tbody tr th:only-of-type {\n",
              "        vertical-align: middle;\n",
              "    }\n",
              "\n",
              "    .dataframe tbody tr th {\n",
              "        vertical-align: top;\n",
              "    }\n",
              "\n",
              "    .dataframe thead th {\n",
              "        text-align: right;\n",
              "    }\n",
              "</style>\n",
              "<table border=\"1\" class=\"dataframe\">\n",
              "  <thead>\n",
              "    <tr style=\"text-align: right;\">\n",
              "      <th></th>\n",
              "      <th>user_id</th>\n",
              "      <th>purchase_value</th>\n",
              "      <th>device_id</th>\n",
              "      <th>source</th>\n",
              "      <th>browser</th>\n",
              "      <th>sex</th>\n",
              "      <th>age</th>\n",
              "      <th>class</th>\n",
              "    </tr>\n",
              "  </thead>\n",
              "  <tbody>\n",
              "    <tr>\n",
              "      <th>count</th>\n",
              "      <td>151112.000000</td>\n",
              "      <td>151112.000000</td>\n",
              "      <td>151112.000000</td>\n",
              "      <td>151112.000000</td>\n",
              "      <td>151112.000000</td>\n",
              "      <td>151112.000000</td>\n",
              "      <td>151112.000000</td>\n",
              "      <td>151112.000000</td>\n",
              "    </tr>\n",
              "    <tr>\n",
              "      <th>mean</th>\n",
              "      <td>200171.040970</td>\n",
              "      <td>36.935372</td>\n",
              "      <td>68981.737433</td>\n",
              "      <td>1.004857</td>\n",
              "      <td>1.374874</td>\n",
              "      <td>0.584288</td>\n",
              "      <td>33.140704</td>\n",
              "      <td>0.093646</td>\n",
              "    </tr>\n",
              "    <tr>\n",
              "      <th>std</th>\n",
              "      <td>115369.285024</td>\n",
              "      <td>18.322762</td>\n",
              "      <td>39817.197879</td>\n",
              "      <td>0.892960</td>\n",
              "      <td>1.440658</td>\n",
              "      <td>0.492846</td>\n",
              "      <td>8.617733</td>\n",
              "      <td>0.291336</td>\n",
              "    </tr>\n",
              "    <tr>\n",
              "      <th>min</th>\n",
              "      <td>2.000000</td>\n",
              "      <td>9.000000</td>\n",
              "      <td>0.000000</td>\n",
              "      <td>0.000000</td>\n",
              "      <td>0.000000</td>\n",
              "      <td>0.000000</td>\n",
              "      <td>18.000000</td>\n",
              "      <td>0.000000</td>\n",
              "    </tr>\n",
              "    <tr>\n",
              "      <th>25%</th>\n",
              "      <td>100642.500000</td>\n",
              "      <td>22.000000</td>\n",
              "      <td>34532.750000</td>\n",
              "      <td>0.000000</td>\n",
              "      <td>0.000000</td>\n",
              "      <td>0.000000</td>\n",
              "      <td>27.000000</td>\n",
              "      <td>0.000000</td>\n",
              "    </tr>\n",
              "    <tr>\n",
              "      <th>50%</th>\n",
              "      <td>199958.000000</td>\n",
              "      <td>35.000000</td>\n",
              "      <td>68906.500000</td>\n",
              "      <td>1.000000</td>\n",
              "      <td>1.000000</td>\n",
              "      <td>1.000000</td>\n",
              "      <td>33.000000</td>\n",
              "      <td>0.000000</td>\n",
              "    </tr>\n",
              "    <tr>\n",
              "      <th>75%</th>\n",
              "      <td>300054.000000</td>\n",
              "      <td>49.000000</td>\n",
              "      <td>103497.250000</td>\n",
              "      <td>2.000000</td>\n",
              "      <td>2.000000</td>\n",
              "      <td>1.000000</td>\n",
              "      <td>39.000000</td>\n",
              "      <td>0.000000</td>\n",
              "    </tr>\n",
              "    <tr>\n",
              "      <th>max</th>\n",
              "      <td>400000.000000</td>\n",
              "      <td>154.000000</td>\n",
              "      <td>137955.000000</td>\n",
              "      <td>2.000000</td>\n",
              "      <td>4.000000</td>\n",
              "      <td>1.000000</td>\n",
              "      <td>76.000000</td>\n",
              "      <td>1.000000</td>\n",
              "    </tr>\n",
              "  </tbody>\n",
              "</table>\n",
              "</div>"
            ],
            "text/plain": [
              "             user_id  purchase_value  ...            age          class\n",
              "count  151112.000000   151112.000000  ...  151112.000000  151112.000000\n",
              "mean   200171.040970       36.935372  ...      33.140704       0.093646\n",
              "std    115369.285024       18.322762  ...       8.617733       0.291336\n",
              "min         2.000000        9.000000  ...      18.000000       0.000000\n",
              "25%    100642.500000       22.000000  ...      27.000000       0.000000\n",
              "50%    199958.000000       35.000000  ...      33.000000       0.000000\n",
              "75%    300054.000000       49.000000  ...      39.000000       0.000000\n",
              "max    400000.000000      154.000000  ...      76.000000       1.000000\n",
              "\n",
              "[8 rows x 8 columns]"
            ]
          },
          "metadata": {
            "tags": []
          },
          "execution_count": 7
        }
      ]
    },
    {
      "cell_type": "markdown",
      "metadata": {
        "id": "_jOgu7UvuCMR"
      },
      "source": [
        "Basic one-hot encoding with Pandas"
      ]
    },
    {
      "cell_type": "code",
      "metadata": {
        "id": "s2maLyMDVu02"
      },
      "source": [
        "one_hot_encoded_training_predictors=pd.get_dummies(c)\n",
        "\n",
        "print(one_hot_encoded_training_predictors)"
      ],
      "execution_count": null,
      "outputs": []
    },
    {
      "cell_type": "markdown",
      "metadata": {
        "id": "xM4WWf7_uNtH"
      },
      "source": [
        "Split Test And Training Data"
      ]
    },
    {
      "cell_type": "code",
      "metadata": {
        "id": "S3bDs5WRuIYG"
      },
      "source": [
        "y = c['class']\n",
        "X = c.drop(['class'], axis = 1)\n",
        "# Split the dataset to trainand test data\n",
        "train_X, test_X, train_y, test_y = train_test_split(X, y, test_size=0.25, random_state=0)"
      ],
      "execution_count": null,
      "outputs": []
    },
    {
      "cell_type": "markdown",
      "metadata": {
        "id": "tJdNiCvbuco7"
      },
      "source": [
        "Random Forest Algoritm"
      ]
    },
    {
      "cell_type": "code",
      "metadata": {
        "id": "0uJl3RjcmSf6",
        "outputId": "0f38a5cc-30e5-4af2-8bc7-3990a9b1d0d4",
        "colab": {
          "base_uri": "https://localhost:8080/",
          "height": 34
        }
      },
      "source": [
        "parameters = {'bootstrap': True,\n",
        "              'min_samples_leaf': 3,\n",
        "              'n_estimators': 50, \n",
        "              'min_samples_split': 10,\n",
        "              'max_features': 'sqrt',\n",
        "              'max_depth': 6,\n",
        "              'max_leaf_nodes': None}\n",
        "RF_model = RandomForestClassifier(**parameters)\n",
        "RF_model.fit(train_X, train_y)\n",
        "RF_predictions = RF_model.predict(test_X)\n",
        "score = accuracy_score(test_y ,RF_predictions)\n",
        "print(score)\n"
      ],
      "execution_count": 5,
      "outputs": [
        {
          "output_type": "stream",
          "text": [
            "0.9076976017788131\n"
          ],
          "name": "stdout"
        }
      ]
    },
    {
      "cell_type": "markdown",
      "metadata": {
        "id": "x2vBb3ZHti39"
      },
      "source": [
        ""
      ]
    }
  ]
}