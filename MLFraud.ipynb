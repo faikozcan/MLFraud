{
  "nbformat": 4,
  "nbformat_minor": 0,
  "metadata": {
    "colab": {
      "name": "MLFraud.ipynb",
      "provenance": [],
      "authorship_tag": "ABX9TyMsl2QVsKfrqyx8mKKFpUI9",
      "include_colab_link": true
    },
    "kernelspec": {
      "name": "python3",
      "display_name": "Python 3"
    }
  },
  "cells": [
    {
      "cell_type": "markdown",
      "metadata": {
        "id": "view-in-github",
        "colab_type": "text"
      },
      "source": [
        "<a href=\"https://colab.research.google.com/github/faikozcan/MLFraud/blob/main/MLFraud.ipynb\" target=\"_parent\"><img src=\"https://colab.research.google.com/assets/colab-badge.svg\" alt=\"Open In Colab\"/></a>"
      ]
    },
    {
      "cell_type": "code",
      "metadata": {
        "id": "s2maLyMDVu02",
        "outputId": "017874c4-7b2f-41e7-8a19-6a745e930cd4",
        "colab": {
          "base_uri": "https://localhost:8080/",
          "height": 195
        }
      },
      "source": [
        "import pandas as pd\n",
        "import requests\n",
        "import io\n",
        "\n",
        "url=\"https://raw.githubusercontent.com/faikozcan/MLFraud/main/dataFiles/Fraud_Data.csv\"\n",
        "s=requests.get(url).content\n",
        "c=pd.read_csv(io.StringIO(s.decode('utf-8')),sep = \",\")\n",
        "c.head()"
      ],
      "execution_count": 44,
      "outputs": [
        {
          "output_type": "execute_result",
          "data": {
            "text/html": [
              "<div>\n",
              "<style scoped>\n",
              "    .dataframe tbody tr th:only-of-type {\n",
              "        vertical-align: middle;\n",
              "    }\n",
              "\n",
              "    .dataframe tbody tr th {\n",
              "        vertical-align: top;\n",
              "    }\n",
              "\n",
              "    .dataframe thead th {\n",
              "        text-align: right;\n",
              "    }\n",
              "</style>\n",
              "<table border=\"1\" class=\"dataframe\">\n",
              "  <thead>\n",
              "    <tr style=\"text-align: right;\">\n",
              "      <th></th>\n",
              "      <th>user_id</th>\n",
              "      <th>signup_time</th>\n",
              "      <th>purchase_time</th>\n",
              "      <th>purchase_value</th>\n",
              "      <th>device_id</th>\n",
              "      <th>source</th>\n",
              "      <th>browser</th>\n",
              "      <th>sex</th>\n",
              "      <th>age</th>\n",
              "      <th>ip_address</th>\n",
              "      <th>class</th>\n",
              "    </tr>\n",
              "  </thead>\n",
              "  <tbody>\n",
              "    <tr>\n",
              "      <th>0</th>\n",
              "      <td>22058</td>\n",
              "      <td>2015-02-24 22:55:49</td>\n",
              "      <td>2015-04-18 02:47:11</td>\n",
              "      <td>34</td>\n",
              "      <td>QVPSPJUOCKZAR</td>\n",
              "      <td>SEO</td>\n",
              "      <td>Chrome</td>\n",
              "      <td>M</td>\n",
              "      <td>39</td>\n",
              "      <td>7.327584e+08</td>\n",
              "      <td>0</td>\n",
              "    </tr>\n",
              "    <tr>\n",
              "      <th>1</th>\n",
              "      <td>333320</td>\n",
              "      <td>2015-06-07 20:39:50</td>\n",
              "      <td>2015-06-08 01:38:54</td>\n",
              "      <td>16</td>\n",
              "      <td>EOGFQPIZPYXFZ</td>\n",
              "      <td>Ads</td>\n",
              "      <td>Chrome</td>\n",
              "      <td>F</td>\n",
              "      <td>53</td>\n",
              "      <td>3.503114e+08</td>\n",
              "      <td>0</td>\n",
              "    </tr>\n",
              "    <tr>\n",
              "      <th>2</th>\n",
              "      <td>1359</td>\n",
              "      <td>2015-01-01 18:52:44</td>\n",
              "      <td>2015-01-01 18:52:45</td>\n",
              "      <td>15</td>\n",
              "      <td>YSSKYOSJHPPLJ</td>\n",
              "      <td>SEO</td>\n",
              "      <td>Opera</td>\n",
              "      <td>M</td>\n",
              "      <td>53</td>\n",
              "      <td>2.621474e+09</td>\n",
              "      <td>1</td>\n",
              "    </tr>\n",
              "    <tr>\n",
              "      <th>3</th>\n",
              "      <td>150084</td>\n",
              "      <td>2015-04-28 21:13:25</td>\n",
              "      <td>2015-05-04 13:54:50</td>\n",
              "      <td>44</td>\n",
              "      <td>ATGTXKYKUDUQN</td>\n",
              "      <td>SEO</td>\n",
              "      <td>Safari</td>\n",
              "      <td>M</td>\n",
              "      <td>41</td>\n",
              "      <td>3.840542e+09</td>\n",
              "      <td>0</td>\n",
              "    </tr>\n",
              "    <tr>\n",
              "      <th>4</th>\n",
              "      <td>221365</td>\n",
              "      <td>2015-07-21 07:09:52</td>\n",
              "      <td>2015-09-09 18:40:53</td>\n",
              "      <td>39</td>\n",
              "      <td>NAUITBZFJKHWW</td>\n",
              "      <td>Ads</td>\n",
              "      <td>Safari</td>\n",
              "      <td>M</td>\n",
              "      <td>45</td>\n",
              "      <td>4.155831e+08</td>\n",
              "      <td>0</td>\n",
              "    </tr>\n",
              "  </tbody>\n",
              "</table>\n",
              "</div>"
            ],
            "text/plain": [
              "   user_id          signup_time        purchase_time  ...  age    ip_address class\n",
              "0    22058  2015-02-24 22:55:49  2015-04-18 02:47:11  ...   39  7.327584e+08     0\n",
              "1   333320  2015-06-07 20:39:50  2015-06-08 01:38:54  ...   53  3.503114e+08     0\n",
              "2     1359  2015-01-01 18:52:44  2015-01-01 18:52:45  ...   53  2.621474e+09     1\n",
              "3   150084  2015-04-28 21:13:25  2015-05-04 13:54:50  ...   41  3.840542e+09     0\n",
              "4   221365  2015-07-21 07:09:52  2015-09-09 18:40:53  ...   45  4.155831e+08     0\n",
              "\n",
              "[5 rows x 11 columns]"
            ]
          },
          "metadata": {
            "tags": []
          },
          "execution_count": 44
        }
      ]
    },
    {
      "cell_type": "code",
      "metadata": {
        "id": "_LTv9pmNe9yO",
        "outputId": "f019d8a4-063d-4b2e-abd6-ab47b462dd55",
        "colab": {
          "base_uri": "https://localhost:8080/",
          "height": 319
        }
      },
      "source": [
        "c.info()"
      ],
      "execution_count": 45,
      "outputs": [
        {
          "output_type": "stream",
          "text": [
            "<class 'pandas.core.frame.DataFrame'>\n",
            "RangeIndex: 151112 entries, 0 to 151111\n",
            "Data columns (total 11 columns):\n",
            " #   Column          Non-Null Count   Dtype  \n",
            "---  ------          --------------   -----  \n",
            " 0   user_id         151112 non-null  int64  \n",
            " 1   signup_time     151112 non-null  object \n",
            " 2   purchase_time   151112 non-null  object \n",
            " 3   purchase_value  151112 non-null  int64  \n",
            " 4   device_id       151112 non-null  object \n",
            " 5   source          151112 non-null  object \n",
            " 6   browser         151112 non-null  object \n",
            " 7   sex             151112 non-null  object \n",
            " 8   age             151112 non-null  int64  \n",
            " 9   ip_address      151112 non-null  float64\n",
            " 10  class           151112 non-null  int64  \n",
            "dtypes: float64(1), int64(4), object(6)\n",
            "memory usage: 12.7+ MB\n"
          ],
          "name": "stdout"
        }
      ]
    },
    {
      "cell_type": "code",
      "metadata": {
        "id": "4kyMqKAwfFSc",
        "outputId": "63d7e0cc-7aff-4cfe-db5c-f98ac34bdd64",
        "colab": {
          "base_uri": "https://localhost:8080/",
          "height": 284
        }
      },
      "source": [
        "c.describe()"
      ],
      "execution_count": 46,
      "outputs": [
        {
          "output_type": "execute_result",
          "data": {
            "text/html": [
              "<div>\n",
              "<style scoped>\n",
              "    .dataframe tbody tr th:only-of-type {\n",
              "        vertical-align: middle;\n",
              "    }\n",
              "\n",
              "    .dataframe tbody tr th {\n",
              "        vertical-align: top;\n",
              "    }\n",
              "\n",
              "    .dataframe thead th {\n",
              "        text-align: right;\n",
              "    }\n",
              "</style>\n",
              "<table border=\"1\" class=\"dataframe\">\n",
              "  <thead>\n",
              "    <tr style=\"text-align: right;\">\n",
              "      <th></th>\n",
              "      <th>user_id</th>\n",
              "      <th>purchase_value</th>\n",
              "      <th>age</th>\n",
              "      <th>ip_address</th>\n",
              "      <th>class</th>\n",
              "    </tr>\n",
              "  </thead>\n",
              "  <tbody>\n",
              "    <tr>\n",
              "      <th>count</th>\n",
              "      <td>151112.000000</td>\n",
              "      <td>151112.000000</td>\n",
              "      <td>151112.000000</td>\n",
              "      <td>1.511120e+05</td>\n",
              "      <td>151112.000000</td>\n",
              "    </tr>\n",
              "    <tr>\n",
              "      <th>mean</th>\n",
              "      <td>200171.040970</td>\n",
              "      <td>36.935372</td>\n",
              "      <td>33.140704</td>\n",
              "      <td>2.152145e+09</td>\n",
              "      <td>0.093646</td>\n",
              "    </tr>\n",
              "    <tr>\n",
              "      <th>std</th>\n",
              "      <td>115369.285024</td>\n",
              "      <td>18.322762</td>\n",
              "      <td>8.617733</td>\n",
              "      <td>1.248497e+09</td>\n",
              "      <td>0.291336</td>\n",
              "    </tr>\n",
              "    <tr>\n",
              "      <th>min</th>\n",
              "      <td>2.000000</td>\n",
              "      <td>9.000000</td>\n",
              "      <td>18.000000</td>\n",
              "      <td>5.209350e+04</td>\n",
              "      <td>0.000000</td>\n",
              "    </tr>\n",
              "    <tr>\n",
              "      <th>25%</th>\n",
              "      <td>100642.500000</td>\n",
              "      <td>22.000000</td>\n",
              "      <td>27.000000</td>\n",
              "      <td>1.085934e+09</td>\n",
              "      <td>0.000000</td>\n",
              "    </tr>\n",
              "    <tr>\n",
              "      <th>50%</th>\n",
              "      <td>199958.000000</td>\n",
              "      <td>35.000000</td>\n",
              "      <td>33.000000</td>\n",
              "      <td>2.154770e+09</td>\n",
              "      <td>0.000000</td>\n",
              "    </tr>\n",
              "    <tr>\n",
              "      <th>75%</th>\n",
              "      <td>300054.000000</td>\n",
              "      <td>49.000000</td>\n",
              "      <td>39.000000</td>\n",
              "      <td>3.243258e+09</td>\n",
              "      <td>0.000000</td>\n",
              "    </tr>\n",
              "    <tr>\n",
              "      <th>max</th>\n",
              "      <td>400000.000000</td>\n",
              "      <td>154.000000</td>\n",
              "      <td>76.000000</td>\n",
              "      <td>4.294850e+09</td>\n",
              "      <td>1.000000</td>\n",
              "    </tr>\n",
              "  </tbody>\n",
              "</table>\n",
              "</div>"
            ],
            "text/plain": [
              "             user_id  purchase_value  ...    ip_address          class\n",
              "count  151112.000000   151112.000000  ...  1.511120e+05  151112.000000\n",
              "mean   200171.040970       36.935372  ...  2.152145e+09       0.093646\n",
              "std    115369.285024       18.322762  ...  1.248497e+09       0.291336\n",
              "min         2.000000        9.000000  ...  5.209350e+04       0.000000\n",
              "25%    100642.500000       22.000000  ...  1.085934e+09       0.000000\n",
              "50%    199958.000000       35.000000  ...  2.154770e+09       0.000000\n",
              "75%    300054.000000       49.000000  ...  3.243258e+09       0.000000\n",
              "max    400000.000000      154.000000  ...  4.294850e+09       1.000000\n",
              "\n",
              "[8 rows x 5 columns]"
            ]
          },
          "metadata": {
            "tags": []
          },
          "execution_count": 46
        }
      ]
    },
    {
      "cell_type": "code",
      "metadata": {
        "id": "2isuG2eHfXGe",
        "outputId": "0ea17f53-4e53-4a41-eda9-1313899666bf",
        "colab": {
          "base_uri": "https://localhost:8080/",
          "height": 218
        }
      },
      "source": [
        "c['purchase_value']"
      ],
      "execution_count": 57,
      "outputs": [
        {
          "output_type": "execute_result",
          "data": {
            "text/plain": [
              "0         34\n",
              "1         16\n",
              "2         15\n",
              "3         44\n",
              "4         39\n",
              "          ..\n",
              "151107    43\n",
              "151108    35\n",
              "151109    40\n",
              "151110    46\n",
              "151111    20\n",
              "Name: purchase_value, Length: 151112, dtype: int64"
            ]
          },
          "metadata": {
            "tags": []
          },
          "execution_count": 57
        }
      ]
    }
  ]
}