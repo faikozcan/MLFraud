{
  "nbformat": 4,
  "nbformat_minor": 0,
  "metadata": {
    "colab": {
      "name": "Wide_DeepWithCustomModel.ipynb",
      "provenance": [],
      "collapsed_sections": [],
      "authorship_tag": "ABX9TyMvnnWSNTuznLfI71iHMtiP",
      "include_colab_link": true
    },
    "kernelspec": {
      "name": "python3",
      "display_name": "Python 3"
    }
  },
  "cells": [
    {
      "cell_type": "markdown",
      "metadata": {
        "id": "view-in-github",
        "colab_type": "text"
      },
      "source": [
        "<a href=\"https://colab.research.google.com/github/faikozcan/MLFraud/blob/main/Wide_DeepWithCustomModel.ipynb\" target=\"_parent\"><img src=\"https://colab.research.google.com/assets/colab-badge.svg\" alt=\"Open In Colab\"/></a>"
      ]
    },
    {
      "cell_type": "markdown",
      "metadata": {
        "id": "5A0zdg0X8x_U"
      },
      "source": [
        "##Load Dataset"
      ]
    },
    {
      "cell_type": "code",
      "metadata": {
        "colab": {
          "base_uri": "https://localhost:8080/",
          "height": 166
        },
        "id": "I5mg2uvg8sX4",
        "outputId": "ae7fa7d4-72b6-4c47-d819-195d228dc190"
      },
      "source": [
        "#https://medium.com/ml-book/train-tf-keras-model-using-feature-coulmn-8de12e65ddec\r\n",
        "import numpy as np\r\n",
        "import pandas as pd\r\n",
        "import requests \r\n",
        "import io\r\n",
        "import matplotlib.pyplot as plt\r\n",
        "import tensorflow as tf\r\n",
        "from tensorflow import feature_column\r\n",
        "\r\n",
        "\r\n",
        "%matplotlib inline\r\n",
        "pd.set_option(\"display.max_rows\", 500, \"display.max_columns\", 15)\r\n",
        "pd.options.display.width=None\r\n",
        "pd.options.display.max_columns = None\r\n",
        "\r\n",
        "def get_scal(feature):\r\n",
        "  def minmax(x):\r\n",
        "    mini = train[feature].min()\r\n",
        "    maxi = train[feature].max()\r\n",
        "    return (x - mini)/(maxi-mini)\r\n",
        "  return(minmax)\r\n",
        "url=\"https://raw.githubusercontent.com/faikozcan/MLFraud/main/dataFiles/Fraud_DataWithCountry.csv\"\r\n",
        "s=requests.get(url).content\r\n",
        "#,usecols=[\"user_id\",\"signup_time\",\"purchase_time\",\"purchase_value\",\"device_id\",\"source\",\"browser\",\"sex\",\"age\",\"ip_address\",\"ip_country\",\"class\"]\r\n",
        "dfDownloaded=pd.read_csv(io.StringIO(s.decode('utf-8')),sep = \",\",usecols=['signup_time','purchase_time','device_id','user_id','age','sex','source','browser','purchase_value','ip_country','class'])\r\n",
        "dfDownloaded.rename(columns={'sex': 'gender'}, inplace=True)\r\n",
        "dfDownloaded['purchase_time'] = pd.to_datetime(dfDownloaded['purchase_time'])\r\n",
        "dfDownloaded['purchase_hour'] = dfDownloaded['purchase_time'].dt.hour\r\n",
        "\r\n",
        "dfDownloaded['signup_time'] = pd.to_datetime(dfDownloaded['signup_time'])\r\n",
        "dfDownloaded['day_of_week'] = dfDownloaded['purchase_time'].dt.day_name().astype(str)\r\n",
        "dfDownloaded['day_diff_purchase_signup'] = (dfDownloaded['purchase_time'] - dfDownloaded['signup_time']).dt.days\r\n",
        "dfDownloaded['same_Day_Purchase']=np.where(dfDownloaded['day_diff_purchase_signup']==0,1,0)\r\n",
        "#assign that dict to a column\r\n",
        "device_dict = dict(dfDownloaded.device_id.value_counts())\r\n",
        "dfDownloaded['device_TranCount'] = [device_dict[d] for d in dfDownloaded.device_id]\r\n",
        "#dfDownloaded['first_tran_with_device'] = np.where(dfDownloaded['device_TranCount']==0,1,0) anlamsız oluyor.\r\n",
        "dfDownloaded.drop('purchase_time',axis=1,inplace=True)\r\n",
        "dfDownloaded.drop('signup_time',axis=1,inplace=True)\r\n",
        "dfDownloaded.drop('day_diff_purchase_signup',axis=1,inplace=True)\r\n",
        "\r\n",
        "dfDownloaded.head(4)"
      ],
      "execution_count": null,
      "outputs": [
        {
          "output_type": "execute_result",
          "data": {
            "text/html": [
              "<div>\n",
              "<style scoped>\n",
              "    .dataframe tbody tr th:only-of-type {\n",
              "        vertical-align: middle;\n",
              "    }\n",
              "\n",
              "    .dataframe tbody tr th {\n",
              "        vertical-align: top;\n",
              "    }\n",
              "\n",
              "    .dataframe thead th {\n",
              "        text-align: right;\n",
              "    }\n",
              "</style>\n",
              "<table border=\"1\" class=\"dataframe\">\n",
              "  <thead>\n",
              "    <tr style=\"text-align: right;\">\n",
              "      <th></th>\n",
              "      <th>user_id</th>\n",
              "      <th>purchase_value</th>\n",
              "      <th>device_id</th>\n",
              "      <th>source</th>\n",
              "      <th>browser</th>\n",
              "      <th>gender</th>\n",
              "      <th>age</th>\n",
              "      <th>class</th>\n",
              "      <th>ip_country</th>\n",
              "      <th>purchase_hour</th>\n",
              "      <th>day_of_week</th>\n",
              "      <th>same_Day_Purchase</th>\n",
              "      <th>device_TranCount</th>\n",
              "    </tr>\n",
              "  </thead>\n",
              "  <tbody>\n",
              "    <tr>\n",
              "      <th>0</th>\n",
              "      <td>22058</td>\n",
              "      <td>34</td>\n",
              "      <td>QVPSPJUOCKZAR</td>\n",
              "      <td>SEO</td>\n",
              "      <td>Chrome</td>\n",
              "      <td>M</td>\n",
              "      <td>39</td>\n",
              "      <td>0</td>\n",
              "      <td>Japan</td>\n",
              "      <td>2</td>\n",
              "      <td>Saturday</td>\n",
              "      <td>0</td>\n",
              "      <td>1</td>\n",
              "    </tr>\n",
              "    <tr>\n",
              "      <th>1</th>\n",
              "      <td>333320</td>\n",
              "      <td>16</td>\n",
              "      <td>EOGFQPIZPYXFZ</td>\n",
              "      <td>Ads</td>\n",
              "      <td>Chrome</td>\n",
              "      <td>F</td>\n",
              "      <td>53</td>\n",
              "      <td>0</td>\n",
              "      <td>United States</td>\n",
              "      <td>1</td>\n",
              "      <td>Monday</td>\n",
              "      <td>1</td>\n",
              "      <td>1</td>\n",
              "    </tr>\n",
              "    <tr>\n",
              "      <th>2</th>\n",
              "      <td>1359</td>\n",
              "      <td>15</td>\n",
              "      <td>YSSKYOSJHPPLJ</td>\n",
              "      <td>SEO</td>\n",
              "      <td>Opera</td>\n",
              "      <td>M</td>\n",
              "      <td>53</td>\n",
              "      <td>1</td>\n",
              "      <td>United States</td>\n",
              "      <td>18</td>\n",
              "      <td>Thursday</td>\n",
              "      <td>1</td>\n",
              "      <td>12</td>\n",
              "    </tr>\n",
              "    <tr>\n",
              "      <th>3</th>\n",
              "      <td>150084</td>\n",
              "      <td>44</td>\n",
              "      <td>ATGTXKYKUDUQN</td>\n",
              "      <td>SEO</td>\n",
              "      <td>Safari</td>\n",
              "      <td>M</td>\n",
              "      <td>41</td>\n",
              "      <td>0</td>\n",
              "      <td>Unknown</td>\n",
              "      <td>13</td>\n",
              "      <td>Monday</td>\n",
              "      <td>0</td>\n",
              "      <td>1</td>\n",
              "    </tr>\n",
              "  </tbody>\n",
              "</table>\n",
              "</div>"
            ],
            "text/plain": [
              "   user_id  purchase_value      device_id source browser gender  age  class  \\\n",
              "0    22058              34  QVPSPJUOCKZAR    SEO  Chrome      M   39      0   \n",
              "1   333320              16  EOGFQPIZPYXFZ    Ads  Chrome      F   53      0   \n",
              "2     1359              15  YSSKYOSJHPPLJ    SEO   Opera      M   53      1   \n",
              "3   150084              44  ATGTXKYKUDUQN    SEO  Safari      M   41      0   \n",
              "\n",
              "      ip_country  purchase_hour day_of_week  same_Day_Purchase  \\\n",
              "0          Japan              2    Saturday                  0   \n",
              "1  United States              1      Monday                  1   \n",
              "2  United States             18    Thursday                  1   \n",
              "3        Unknown             13      Monday                  0   \n",
              "\n",
              "   device_TranCount  \n",
              "0                 1  \n",
              "1                 1  \n",
              "2                12  \n",
              "3                 1  "
            ]
          },
          "metadata": {
            "tags": []
          },
          "execution_count": 1
        }
      ]
    },
    {
      "cell_type": "markdown",
      "metadata": {
        "id": "HbEuQNUl8-3S"
      },
      "source": [
        "##Balancing Dataset With Oversampling"
      ]
    },
    {
      "cell_type": "code",
      "metadata": {
        "colab": {
          "base_uri": "https://localhost:8080/",
          "height": 682
        },
        "id": "ajsmOGIr9BN1",
        "outputId": "274ed172-c993-482b-c287-d64339cb07c2"
      },
      "source": [
        "from sklearn.utils import shuffle\r\n",
        "\r\n",
        "df=dfDownloaded\r\n",
        "train=df.sample(frac=0.75,random_state=200) #random state is a seed value\r\n",
        "remaining=df.drop(train.index)\r\n",
        "test=remaining.sample(frac=0.5,random_state=200) #random state is a seed value\r\n",
        "val=remaining.drop(test.index)\r\n",
        "print(len(train), 'train examples')\r\n",
        "print(len(val), 'validation examples')\r\n",
        "print(len(test), 'test examples')\r\n",
        "\r\n",
        "\r\n",
        "\r\n",
        "def oversample(data):\r\n",
        "  # Class count\r\n",
        "  count_class_0, count_class_1 = data['class'].value_counts()# Class count\r\n",
        "\r\n",
        "  # Random Over Sampling \r\n",
        "  df_class_0 = data[data['class'] == 0]\r\n",
        "  df_class_1 = data[data['class'] == 1]\r\n",
        "  df_class_1_over = df_class_1.sample(count_class_0,replace=True)\r\n",
        "  data = pd.concat([df_class_0,df_class_1_over], axis=0)\r\n",
        "  print('Random over-sampling:')\r\n",
        "  targetCountsOverSampled=data['class'].value_counts()\r\n",
        "  print(targetCountsOverSampled)\r\n",
        "  return data\r\n",
        "\r\n",
        "\r\n",
        "\r\n",
        "\r\n",
        "def plotOverSampling(data,row,column,mtitle):\r\n",
        "  neg, pos = np.bincount(data['class'])\r\n",
        "  total = neg + pos\r\n",
        "  print('Examples:\\n    Total: {}\\n    Positive: {} ({:.2f}% of total)\\n'.format(\r\n",
        "      total, pos, 100 * pos / total))\r\n",
        "  target_count = data['class'].value_counts()\r\n",
        "  print('Class 0:', target_count[0])\r\n",
        "  print('Class 1:', target_count[1])\r\n",
        "  print('Proportion:', round(target_count[0] / target_count[1], 2), ': 1')\r\n",
        "  plt.subplot(row,column, 1) # (rows, columns, panel number)\r\n",
        "  target_count.plot(kind='bar', title=mtitle)\r\n",
        "\r\n",
        "train=oversample(train)\r\n",
        "val=oversample(val)\r\n",
        "plt.figure()  # create a plot figure\r\n",
        "plotOverSampling(train,1,1,'Training Count(target)')\r\n",
        "\r\n",
        "train = shuffle(train)\r\n",
        "val=shuffle(val)\r\n",
        "print(len(train), 'train examples')\r\n",
        "print(len(val), 'validation examples')\r\n",
        "print(len(test), 'test examples')\r\n",
        "\r\n",
        "train.head(20)\r\n",
        "val.head(20)\r\n",
        "test.head(20)\r\n",
        "#val.head(200)\r\n",
        "\r\n",
        "test['class'].value_counts()\r\n"
      ],
      "execution_count": null,
      "outputs": [
        {
          "output_type": "stream",
          "text": [
            "113334 train examples\n",
            "18889 validation examples\n",
            "18889 test examples\n",
            "Random over-sampling:\n",
            "1    102830\n",
            "0    102830\n",
            "Name: class, dtype: int64\n",
            "Random over-sampling:\n",
            "1    17072\n",
            "0    17072\n",
            "Name: class, dtype: int64\n",
            "Examples:\n",
            "    Total: 205660\n",
            "    Positive: 102830 (50.00% of total)\n",
            "\n",
            "Class 0: 102830\n",
            "Class 1: 102830\n",
            "Proportion: 1.0 : 1\n",
            "205660 train examples\n",
            "34144 validation examples\n",
            "18889 test examples\n"
          ],
          "name": "stdout"
        },
        {
          "output_type": "execute_result",
          "data": {
            "text/plain": [
              "0    17059\n",
              "1     1830\n",
              "Name: class, dtype: int64"
            ]
          },
          "metadata": {
            "tags": []
          },
          "execution_count": 4
        },
        {
          "output_type": "display_data",
          "data": {
            "image/png": "[encoded data removed]",
            "text/plain": [
              "<Figure size 432x288 with 1 Axes>"
            ]
          },
          "metadata": {
            "tags": [],
            "needs_background": "light"
          }
        }
      ]
    },
    {
      "cell_type": "markdown",
      "metadata": {
        "id": "gRPiIT5X-uFA"
      },
      "source": [
        "## Create Wide And Deep Columns\r\n",
        "\r\n"
      ]
    },
    {
      "cell_type": "code",
      "metadata": {
        "colab": {
          "base_uri": "https://localhost:8080/"
        },
        "id": "ne3eKXei0ojo",
        "outputId": "312ba075-efbb-42dc-f766-1db91028560e"
      },
      "source": [
        "from tensorflow import feature_column as fc\r\n",
        "deep_columns=[]\r\n",
        "wide_columns = []\r\n",
        "categorical_columns = {}\r\n",
        "\r\n",
        "#numerical features\r\n",
        "num_c = ['purchase_value']\r\n",
        "#bucketized numerical features\r\n",
        "bucket_c =['age'] \r\n",
        "#categorical features\r\n",
        "cat_i_c =['gender','source','browser','day_of_week','purchase_hour'] #indicator columns\r\n",
        "cat_e_c =['ip_country'] # embedding column\r\n",
        "\r\n",
        "featureEngineeringActive=1\r\n",
        "def DoFeatureEngineering(cat_i_c,num_c):\r\n",
        "  return np.concatenate((cat_i_c,['same_Day_Purchase'])), np.concatenate((num_c,['device_TranCount']))\r\n",
        "if featureEngineeringActive==1:\r\n",
        "  cat_i_c,num_c = DoFeatureEngineering(cat_i_c,num_c)\r\n",
        "\r\n",
        "for header in num_c:\r\n",
        "  scal_input_fn = get_scal(header)\r\n",
        "  deep_columns.append(fc.numeric_column(header, normalizer_fn=scal_input_fn))\r\n",
        "  \r\n",
        "\r\n",
        "\r\n",
        "age = feature_column.numeric_column('age')\r\n",
        "age_buckets = feature_column.bucketized_column(age, boundaries=[20,30, 40,50, 60, 100])\r\n",
        "deep_columns.append(age_buckets)\r\n",
        "\r\n",
        "#embedding columns\r\n",
        "for feature_name in cat_e_c:\r\n",
        "  vocabulary = df[feature_name].unique()\r\n",
        "  cat_c = fc.categorical_column_with_vocabulary_list(feature_name, vocabulary)\r\n",
        "  embeding = fc.embedding_column(cat_c, dimension=4)\r\n",
        "  deep_columns.append(embeding)\r\n",
        "\r\n",
        "#indicator columns\r\n",
        "for feature_name in cat_i_c:\r\n",
        "  vocabulary = df[feature_name].unique()\r\n",
        "  cat_c = fc.categorical_column_with_vocabulary_list(feature_name, vocabulary)\r\n",
        "  categorical_columns[feature_name]=cat_c\r\n",
        "  one_hot = fc.indicator_column(cat_c)\r\n",
        "  deep_columns.append(one_hot)\r\n",
        "\r\n",
        "# deviceIdCol=fc.categorical_column_with_hash_bucket('device_id',141000)\r\n",
        "# wide_columns.append(fc.indicator_column(deviceIdCol))\r\n",
        "country_vocabulary = df['ip_country'].unique()\r\n",
        "countryCol=fc.categorical_column_with_vocabulary_list('ip_country',country_vocabulary)\r\n",
        "wide_columns.append(fc.indicator_column(countryCol))\r\n",
        "#crossed columns\r\n",
        "#vocabularyGender = df['sex'].unique()\r\n",
        "#gender =fc.categorical_column_with_vocabulary_list('sex', vocabularyGender) \r\n",
        "#crossed_feature = fc.crossed_column([age_buckets, gender], hash_bucket_size=18)\r\n",
        "#crossed_feature = fc.indicator_column(crossed_feature)\r\n",
        "#wide_columns.append(crossed_feature)\r\n",
        "\r\n",
        "# userid_X_source = fc.crossed_column(['user_id', 'source'], hash_bucket_size=400000)\r\n",
        "# crossed_feature1 = fc.indicator_column(userid_X_source)\r\n",
        "# wide_columns.append(crossed_feature1)\r\n",
        "\r\n",
        "deviceId_X_source = fc.crossed_column(['device_id', 'source'], hash_bucket_size=450000)\r\n",
        "crossed_feature2 = fc.indicator_column(deviceId_X_source)\r\n",
        "wide_columns.append(crossed_feature2)\r\n",
        "\r\n",
        "print(wide_columns,deep_columns)"
      ],
      "execution_count": null,
      "outputs": [
        {
          "output_type": "stream",
          "text": [
            "[IndicatorColumn(categorical_column=VocabularyListCategoricalColumn(key='ip_country', vocabulary_list=('Japan', 'United States', 'Unknown', 'Canada', 'China', 'Brazil', 'India', 'Argentina', 'United Kingdom', 'South Africa', 'Germany', 'Mexico', 'Sweden', 'Korea Republic of', 'Peru', 'Portugal', 'Bangladesh', 'France', 'Taiwan; Republic of China (ROC)', 'Russian Federation', 'Belgium', 'Denmark', 'Netherlands', 'Iran (ISLAMIC Republic Of)', 'Spain', 'Gabon', 'Saudi Arabia', 'Hong Kong', 'Georgia', 'Syrian Arab Republic', 'Turkey', 'New Zealand', 'European Union', 'Australia', 'Ukraine', 'Austria', 'Israel', 'Malaysia', 'Greece', 'Italy', 'Norway', 'Poland', 'Venezuela', 'Thailand', 'Chile', 'Morocco', 'Finland', 'Hungary', 'Indonesia', 'Colombia', 'Ecuador', 'Lithuania', 'Switzerland', 'Viet Nam', 'Nigeria', 'Egypt', 'Seychelles', 'Kazakhstan', 'Kenya', 'Moldova Republic of', 'Trinidad and Tobago', 'Qatar', 'Bolivia', 'Bulgaria', 'Romania', 'Croatia (LOCAL Name: Hrvatska)', 'Cyprus', 'Czech Republic', 'Algeria', 'Kyrgyzstan', 'Singapore', 'Guam', 'United Arab Emirates', 'Paraguay', 'Tunisia', 'Dominican Republic', 'Pakistan', 'Malta', 'Nicaragua', 'Estonia', 'Mozambique', 'Namibia', 'Macedonia', 'Costa Rica', 'Cuba', 'Ireland', 'Albania', 'Oman', 'Uruguay', 'Lebanon', 'Puerto Rico', 'Maldives', 'Turkmenistan', 'Barbados', 'Iceland', 'Philippines', 'Kuwait', 'Panama', 'New Caledonia', 'Guatemala', 'Ghana', 'Latvia', 'Malawi', 'Slovenia', 'Senegal', 'Libyan Arab Jamahiriya', 'Cambodia', 'Belize', 'Mauritius', 'Slovakia (SLOVAK Republic)', 'Iraq', 'El Salvador', 'Bosnia and Herzegowina', 'Serbia', 'Luxembourg', 'Belarus', \"Cote D'ivoire\", 'Djibouti', 'Armenia', 'Sri Lanka', 'Sudan', 'Rwanda', 'Uzbekistan', 'Jordan', 'Bahrain', 'Azerbaijan', 'South Sudan', 'Virgin Islands (U.S.)', 'Congo', 'Angola', 'Uganda', 'Jamaica', 'Haiti', 'Papua New Guinea', 'Gibraltar', 'Cameroon', 'Palestinian Territory Occupied', 'Myanmar', 'Nepal', 'Brunei Darussalam', 'Zambia', 'Saint Kitts and Nevis', 'Reunion', 'Botswana', 'Dominica', 'Burkina Faso', 'Montenegro', 'Macau', 'Tanzania United Republic of', 'Faroe Islands', 'Zimbabwe', 'Honduras', 'Monaco', 'Congo The Democratic Republic of The', 'Cayman Islands', 'Niger', 'Antigua and Barbuda', 'Lesotho', 'Fiji', 'Mongolia', 'Afghanistan', 'Bhutan', 'Bermuda', 'Curacao', 'Ethiopia', 'Vanuatu', \"Lao People's Democratic Republic\", 'British Indian Ocean Territory', 'Bahamas', 'Madagascar', 'Bonaire; Sint Eustatius; Saba', 'Liechtenstein', 'Gambia', 'Benin', 'Cape Verde', 'Tajikistan', 'Saint Martin', 'Yemen', 'San Marino', 'Burundi', 'Nauru', 'Guadeloupe'), dtype=tf.string, default_value=-1, num_oov_buckets=0)), IndicatorColumn(categorical_column=CrossedColumn(keys=('device_id', 'source'), hash_bucket_size=450000, hash_key=None))] [NumericColumn(key='purchase_value', shape=(1,), default_value=None, dtype=tf.float32, normalizer_fn=<function get_scal.<locals>.minmax at 0x7f397d064268>), NumericColumn(key='device_TranCount', shape=(1,), default_value=None, dtype=tf.float32, normalizer_fn=<function get_scal.<locals>.minmax at 0x7f3981111950>), BucketizedColumn(source_column=NumericColumn(key='age', shape=(1,), default_value=None, dtype=tf.float32, normalizer_fn=None), boundaries=(20, 30, 40, 50, 60, 100)), EmbeddingColumn(categorical_column=VocabularyListCategoricalColumn(key='ip_country', vocabulary_list=('Japan', 'United States', 'Unknown', 'Canada', 'China', 'Brazil', 'India', 'Argentina', 'United Kingdom', 'South Africa', 'Germany', 'Mexico', 'Sweden', 'Korea Republic of', 'Peru', 'Portugal', 'Bangladesh', 'France', 'Taiwan; Republic of China (ROC)', 'Russian Federation', 'Belgium', 'Denmark', 'Netherlands', 'Iran (ISLAMIC Republic Of)', 'Spain', 'Gabon', 'Saudi Arabia', 'Hong Kong', 'Georgia', 'Syrian Arab Republic', 'Turkey', 'New Zealand', 'European Union', 'Australia', 'Ukraine', 'Austria', 'Israel', 'Malaysia', 'Greece', 'Italy', 'Norway', 'Poland', 'Venezuela', 'Thailand', 'Chile', 'Morocco', 'Finland', 'Hungary', 'Indonesia', 'Colombia', 'Ecuador', 'Lithuania', 'Switzerland', 'Viet Nam', 'Nigeria', 'Egypt', 'Seychelles', 'Kazakhstan', 'Kenya', 'Moldova Republic of', 'Trinidad and Tobago', 'Qatar', 'Bolivia', 'Bulgaria', 'Romania', 'Croatia (LOCAL Name: Hrvatska)', 'Cyprus', 'Czech Republic', 'Algeria', 'Kyrgyzstan', 'Singapore', 'Guam', 'United Arab Emirates', 'Paraguay', 'Tunisia', 'Dominican Republic', 'Pakistan', 'Malta', 'Nicaragua', 'Estonia', 'Mozambique', 'Namibia', 'Macedonia', 'Costa Rica', 'Cuba', 'Ireland', 'Albania', 'Oman', 'Uruguay', 'Lebanon', 'Puerto Rico', 'Maldives', 'Turkmenistan', 'Barbados', 'Iceland', 'Philippines', 'Kuwait', 'Panama', 'New Caledonia', 'Guatemala', 'Ghana', 'Latvia', 'Malawi', 'Slovenia', 'Senegal', 'Libyan Arab Jamahiriya', 'Cambodia', 'Belize', 'Mauritius', 'Slovakia (SLOVAK Republic)', 'Iraq', 'El Salvador', 'Bosnia and Herzegowina', 'Serbia', 'Luxembourg', 'Belarus', \"Cote D'ivoire\", 'Djibouti', 'Armenia', 'Sri Lanka', 'Sudan', 'Rwanda', 'Uzbekistan', 'Jordan', 'Bahrain', 'Azerbaijan', 'South Sudan', 'Virgin Islands (U.S.)', 'Congo', 'Angola', 'Uganda', 'Jamaica', 'Haiti', 'Papua New Guinea', 'Gibraltar', 'Cameroon', 'Palestinian Territory Occupied', 'Myanmar', 'Nepal', 'Brunei Darussalam', 'Zambia', 'Saint Kitts and Nevis', 'Reunion', 'Botswana', 'Dominica', 'Burkina Faso', 'Montenegro', 'Macau', 'Tanzania United Republic of', 'Faroe Islands', 'Zimbabwe', 'Honduras', 'Monaco', 'Congo The Democratic Republic of The', 'Cayman Islands', 'Niger', 'Antigua and Barbuda', 'Lesotho', 'Fiji', 'Mongolia', 'Afghanistan', 'Bhutan', 'Bermuda', 'Curacao', 'Ethiopia', 'Vanuatu', \"Lao People's Democratic Republic\", 'British Indian Ocean Territory', 'Bahamas', 'Madagascar', 'Bonaire; Sint Eustatius; Saba', 'Liechtenstein', 'Gambia', 'Benin', 'Cape Verde', 'Tajikistan', 'Saint Martin', 'Yemen', 'San Marino', 'Burundi', 'Nauru', 'Guadeloupe'), dtype=tf.string, default_value=-1, num_oov_buckets=0), dimension=4, combiner='mean', initializer=<tensorflow.python.ops.init_ops.TruncatedNormal object at 0x7f397a3287b8>, ckpt_to_load_from=None, tensor_name_in_ckpt=None, max_norm=None, trainable=True, use_safe_embedding_lookup=True), IndicatorColumn(categorical_column=VocabularyListCategoricalColumn(key='gender', vocabulary_list=('M', 'F'), dtype=tf.string, default_value=-1, num_oov_buckets=0)), IndicatorColumn(categorical_column=VocabularyListCategoricalColumn(key='source', vocabulary_list=('SEO', 'Ads', 'Direct'), dtype=tf.string, default_value=-1, num_oov_buckets=0)), IndicatorColumn(categorical_column=VocabularyListCategoricalColumn(key='browser', vocabulary_list=('Chrome', 'Opera', 'Safari', 'IE', 'FireFox'), dtype=tf.string, default_value=-1, num_oov_buckets=0)), IndicatorColumn(categorical_column=VocabularyListCategoricalColumn(key='day_of_week', vocabulary_list=('Saturday', 'Monday', 'Thursday', 'Wednesday', 'Tuesday', 'Sunday', 'Friday'), dtype=tf.string, default_value=-1, num_oov_buckets=0)), IndicatorColumn(categorical_column=VocabularyListCategoricalColumn(key='purchase_hour', vocabulary_list=(2, 1, 18, 13, 8, 3, 17, 14, 23, 21, 5, 12, 0, 10, 7, 22, 15, 20, 6, 9, 11, 4, 16, 19), dtype=tf.int64, default_value=-1, num_oov_buckets=0)), IndicatorColumn(categorical_column=VocabularyListCategoricalColumn(key='same_Day_Purchase', vocabulary_list=(0, 1), dtype=tf.int64, default_value=-1, num_oov_buckets=0))]\n"
          ],
          "name": "stdout"
        }
      ]
    },
    {
      "cell_type": "markdown",
      "metadata": {
        "id": "WPtr_P7aFHnj"
      },
      "source": [
        "## Create Model"
      ]
    },
    {
      "cell_type": "code",
      "metadata": {
        "colab": {
          "base_uri": "https://localhost:8080/"
        },
        "id": "xndCcxePE7Ye",
        "outputId": "7ed03ee8-ace9-4d55-e2ce-c5ccf79c5dd8"
      },
      "source": [
        "from keras.metrics import Precision, Recall\r\n",
        "\r\n",
        "def df_to_dataset(dataframe, shuffle=True, batch_size=32):\r\n",
        "  dataframe = dataframe.copy()\r\n",
        "  labels = dataframe.pop('class')\r\n",
        "  ds = tf.data.Dataset.from_tensor_slices((dict(dataframe), labels))\r\n",
        "  if shuffle:\r\n",
        "    ds = ds.shuffle(buffer_size=len(dataframe))\r\n",
        "  ds = ds.batch(batch_size)\r\n",
        "  return ds\r\n",
        "\r\n",
        "\r\n",
        "\r\n",
        "batch_size = 32\r\n",
        "train_ds = df_to_dataset(train,shuffle=True, batch_size=batch_size)\r\n",
        "print(train_ds)\r\n",
        "val_ds = df_to_dataset(val, shuffle=True, batch_size=batch_size)\r\n",
        "\r\n",
        "\r\n",
        "inputs = {\r\n",
        "    colname : tf.keras.layers.Input(name=colname, shape=(), dtype='float32') \\\r\n",
        "          for colname in ['purchase_value','device_TranCount']\r\n",
        "}\r\n",
        "inputs.update ({\r\n",
        "    colname : tf.keras.layers.Input(name=colname, shape=(), dtype='int64') \\\r\n",
        "          for colname in ['user_id','age','same_Day_Purchase','purchase_hour']\r\n",
        "})\r\n",
        "inputs.update({\r\n",
        "    colname : tf.keras.layers.Input(name=colname, shape=(), dtype='string') \\\r\n",
        "          for colname in ['day_of_week','browser','source','gender','device_id','ip_country']\r\n",
        "})\r\n",
        "\r\n",
        "# To apply L1 and L2 regularization, you can set dnn_optimizer to:\r\n",
        "custom_Optimizer=  tf.keras.optimizers.Adam(\r\n",
        "    learning_rate=0.01)\r\n",
        "\r\n",
        "def wide_and_deep_classifier(inputs, linear_feature_columns, dnn_feature_columns, dnn_hidden_units):\r\n",
        "    deep = tf.keras.layers.DenseFeatures(dnn_feature_columns)(inputs)\r\n",
        "    for numnodes in dnn_hidden_units:\r\n",
        "        deep = tf.keras.layers.Dense(numnodes, activation='relu')(deep) \r\n",
        "        deep=tf.keras.layers.Dropout(0.1)(deep)   \r\n",
        "    wide = tf.keras.layers.DenseFeatures(linear_feature_columns)(inputs)\r\n",
        "    wide=tf.keras.layers.Dropout(0.2)(wide)\r\n",
        "    both = tf.keras.layers.concatenate([deep, wide])\r\n",
        "    output = tf.keras.layers.Dense(1, activation='sigmoid')(both)\r\n",
        "    model = tf.keras.Model(inputs, output)\r\n",
        "    model.compile(optimizer=custom_Optimizer,loss='binary_crossentropy', metrics=['accuracy', Precision(), Recall()])\r\n",
        "    return model\r\n",
        "model = wide_and_deep_classifier(inputs, wide_columns, deep_columns, [8,8])\r\n",
        "\r\n",
        "\r\n",
        "\r\n",
        "callbacks = [\r\n",
        "    tf.keras.callbacks.TensorBoard(\r\n",
        "        log_dir='logs'\r\n",
        "    ),\r\n",
        "    tf.keras.callbacks.EarlyStopping(monitor='val_loss', patience=2)\r\n",
        "]\r\n",
        "history = model.fit(train_ds,\r\n",
        "          validation_data=val_ds,\r\n",
        "          epochs=5,\r\n",
        "          verbose=1,\r\n",
        "          callbacks=callbacks)\r\n",
        "model.summary()\r\n",
        "\r\n"
      ],
      "execution_count": null,
      "outputs": [
        {
          "output_type": "stream",
          "text": [
            "<BatchDataset shapes: ({user_id: (None,), purchase_value: (None,), device_id: (None,), source: (None,), browser: (None,), gender: (None,), age: (None,), ip_country: (None,), purchase_hour: (None,), day_of_week: (None,), same_Day_Purchase: (None,), device_TranCount: (None,)}, (None,)), types: ({user_id: tf.int64, purchase_value: tf.int64, device_id: tf.string, source: tf.string, browser: tf.string, gender: tf.string, age: tf.int64, ip_country: tf.string, purchase_hour: tf.int64, day_of_week: tf.string, same_Day_Purchase: tf.int64, device_TranCount: tf.int64}, tf.int64)>\n",
            "Epoch 1/5\n",
            "6427/6427 [==============================] - 1317s 204ms/step - loss: 0.4183 - accuracy: 0.7922 - precision_1: 0.9593 - recall_1: 0.6107 - val_loss: 0.4536 - val_accuracy: 0.7709 - val_precision_1: 0.9809 - val_recall_1: 0.5527\n",
            "Epoch 2/5\n",
            "6427/6427 [==============================] - 1316s 205ms/step - loss: 0.2194 - accuracy: 0.9358 - precision_1: 0.9801 - recall_1: 0.8903 - val_loss: 0.4992 - val_accuracy: 0.7679 - val_precision_1: 0.9730 - val_recall_1: 0.5510\n",
            "Epoch 3/5\n",
            "6427/6427 [==============================] - 1309s 204ms/step - loss: 0.1595 - accuracy: 0.9477 - precision_1: 0.9820 - recall_1: 0.9123 - val_loss: 0.5553 - val_accuracy: 0.7677 - val_precision_1: 0.9714 - val_recall_1: 0.5517\n",
            "Model: \"model_1\"\n",
            "__________________________________________________________________________________________________\n",
            "Layer (type)                    Output Shape         Param #     Connected to                     \n",
            "==================================================================================================\n",
            "age (InputLayer)                [(None,)]            0                                            \n",
            "__________________________________________________________________________________________________\n",
            "browser (InputLayer)            [(None,)]            0                                            \n",
            "__________________________________________________________________________________________________\n",
            "day_of_week (InputLayer)        [(None,)]            0                                            \n",
            "__________________________________________________________________________________________________\n",
            "device_TranCount (InputLayer)   [(None,)]            0                                            \n",
            "__________________________________________________________________________________________________\n",
            "device_id (InputLayer)          [(None,)]            0                                            \n",
            "__________________________________________________________________________________________________\n",
            "gender (InputLayer)             [(None,)]            0                                            \n",
            "__________________________________________________________________________________________________\n",
            "ip_country (InputLayer)         [(None,)]            0                                            \n",
            "__________________________________________________________________________________________________\n",
            "purchase_hour (InputLayer)      [(None,)]            0                                            \n",
            "__________________________________________________________________________________________________\n",
            "purchase_value (InputLayer)     [(None,)]            0                                            \n",
            "__________________________________________________________________________________________________\n",
            "same_Day_Purchase (InputLayer)  [(None,)]            0                                            \n",
            "__________________________________________________________________________________________________\n",
            "source (InputLayer)             [(None,)]            0                                            \n",
            "__________________________________________________________________________________________________\n",
            "user_id (InputLayer)            [(None,)]            0                                            \n",
            "__________________________________________________________________________________________________\n",
            "dense_features_2 (DenseFeatures (None, 56)           728         age[0][0]                        \n",
            "                                                                 browser[0][0]                    \n",
            "                                                                 day_of_week[0][0]                \n",
            "                                                                 device_TranCount[0][0]           \n",
            "                                                                 device_id[0][0]                  \n",
            "                                                                 gender[0][0]                     \n",
            "                                                                 ip_country[0][0]                 \n",
            "                                                                 purchase_hour[0][0]              \n",
            "                                                                 purchase_value[0][0]             \n",
            "                                                                 same_Day_Purchase[0][0]          \n",
            "                                                                 source[0][0]                     \n",
            "                                                                 user_id[0][0]                    \n",
            "__________________________________________________________________________________________________\n",
            "dense_3 (Dense)                 (None, 8)            456         dense_features_2[0][0]           \n",
            "__________________________________________________________________________________________________\n",
            "dropout_3 (Dropout)             (None, 8)            0           dense_3[0][0]                    \n",
            "__________________________________________________________________________________________________\n",
            "dense_4 (Dense)                 (None, 8)            72          dropout_3[0][0]                  \n",
            "__________________________________________________________________________________________________\n",
            "dense_features_3 (DenseFeatures (None, 450182)       0           age[0][0]                        \n",
            "                                                                 browser[0][0]                    \n",
            "                                                                 day_of_week[0][0]                \n",
            "                                                                 device_TranCount[0][0]           \n",
            "                                                                 device_id[0][0]                  \n",
            "                                                                 gender[0][0]                     \n",
            "                                                                 ip_country[0][0]                 \n",
            "                                                                 purchase_hour[0][0]              \n",
            "                                                                 purchase_value[0][0]             \n",
            "                                                                 same_Day_Purchase[0][0]          \n",
            "                                                                 source[0][0]                     \n",
            "                                                                 user_id[0][0]                    \n",
            "__________________________________________________________________________________________________\n",
            "dropout_4 (Dropout)             (None, 8)            0           dense_4[0][0]                    \n",
            "__________________________________________________________________________________________________\n",
            "dropout_5 (Dropout)             (None, 450182)       0           dense_features_3[0][0]           \n",
            "__________________________________________________________________________________________________\n",
            "concatenate_1 (Concatenate)     (None, 450190)       0           dropout_4[0][0]                  \n",
            "                                                                 dropout_5[0][0]                  \n",
            "__________________________________________________________________________________________________\n",
            "dense_5 (Dense)                 (None, 1)            450191      concatenate_1[0][0]              \n",
            "==================================================================================================\n",
            "Total params: 451,447\n",
            "Trainable params: 451,447\n",
            "Non-trainable params: 0\n",
            "__________________________________________________________________________________________________\n"
          ],
          "name": "stdout"
        }
      ]
    },
    {
      "cell_type": "markdown",
      "metadata": {
        "id": "QdK82mMkFPHe"
      },
      "source": [
        "##Test Model"
      ]
    },
    {
      "cell_type": "code",
      "metadata": {
        "id": "fYMugNkkZ1Rn"
      },
      "source": [
        "model.save('WideDeepFraudDetectionModel.h5')"
      ],
      "execution_count": null,
      "outputs": []
    },
    {
      "cell_type": "code",
      "metadata": {
        "colab": {
          "base_uri": "https://localhost:8080/"
        },
        "id": "frJYHilhT5JG",
        "outputId": "d763d347-63b5-49ad-e182-e974b747b201"
      },
      "source": [
        "\r\n",
        "\r\n",
        "test_ds2 = df_to_dataset(test, shuffle=True, batch_size=batch_size)\r\n",
        "print('all test result')\r\n",
        "loss, accuracy,precision,recall = model.evaluate(test_ds2,steps=5000)"
      ],
      "execution_count": null,
      "outputs": [
        {
          "output_type": "stream",
          "text": [
            "all test result\n",
            " 590/5000 [==>...........................] - ETA: 2:39 - loss: 0.2289 - accuracy: 0.9404 - precision: 0.7558 - recall: 0.5676WARNING:tensorflow:Your input ran out of data; interrupting training. Make sure that your dataset or generator can generate at least `steps_per_epoch * epochs` batches (in this case, 5000 batches). You may need to use the repeat() function when building your dataset.\n",
            "5000/5000 [==============================] - 22s 4ms/step - loss: 0.2290 - accuracy: 0.9403 - precision: 0.7560 - recall: 0.5672\n"
          ],
          "name": "stdout"
        }
      ]
    },
    {
      "cell_type": "code",
      "metadata": {
        "colab": {
          "base_uri": "https://localhost:8080/",
          "height": 47
        },
        "id": "fp06nd0CXEHi",
        "outputId": "53a64034-8454-4572-d28b-bae365eee98b"
      },
      "source": [
        "train[train['device_id']=='MFXDGBZUITKBX']\r\n",
        "val[val['device_id']=='MFXDGBZUITKBX']\r\n",
        "test[test['device_id']=='MFXDGBZUITKBX']"
      ],
      "execution_count": null,
      "outputs": [
        {
          "output_type": "execute_result",
          "data": {
            "text/html": [
              "<div>\n",
              "<style scoped>\n",
              "    .dataframe tbody tr th:only-of-type {\n",
              "        vertical-align: middle;\n",
              "    }\n",
              "\n",
              "    .dataframe tbody tr th {\n",
              "        vertical-align: top;\n",
              "    }\n",
              "\n",
              "    .dataframe thead th {\n",
              "        text-align: right;\n",
              "    }\n",
              "</style>\n",
              "<table border=\"1\" class=\"dataframe\">\n",
              "  <thead>\n",
              "    <tr style=\"text-align: right;\">\n",
              "      <th></th>\n",
              "      <th>user_id</th>\n",
              "      <th>purchase_value</th>\n",
              "      <th>device_id</th>\n",
              "      <th>source</th>\n",
              "      <th>browser</th>\n",
              "      <th>gender</th>\n",
              "      <th>age</th>\n",
              "      <th>class</th>\n",
              "      <th>ip_country</th>\n",
              "      <th>purchase_hour</th>\n",
              "      <th>day_of_week</th>\n",
              "      <th>same_Day_Purchase</th>\n",
              "      <th>device_TranCount</th>\n",
              "    </tr>\n",
              "  </thead>\n",
              "  <tbody>\n",
              "  </tbody>\n",
              "</table>\n",
              "</div>"
            ],
            "text/plain": [
              "Empty DataFrame\n",
              "Columns: [user_id, purchase_value, device_id, source, browser, gender, age, class, ip_country, purchase_hour, day_of_week, same_Day_Purchase, device_TranCount]\n",
              "Index: []"
            ]
          },
          "metadata": {
            "tags": []
          },
          "execution_count": 29
        }
      ]
    }
  ]
}