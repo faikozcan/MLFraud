{
  "nbformat": 4,
  "nbformat_minor": 0,
  "metadata": {
    "colab": {
      "name": "Wide_DeepWithCustomModel.ipynb",
      "provenance": [],
      "authorship_tag": "ABX9TyM4xKKjgUs6U2N8Jure6xLA",
      "include_colab_link": true
    },
    "kernelspec": {
      "name": "python3",
      "display_name": "Python 3"
    }
  },
  "cells": [
    {
      "cell_type": "markdown",
      "metadata": {
        "id": "view-in-github",
        "colab_type": "text"
      },
      "source": [
        "<a href=\"https://colab.research.google.com/github/faikozcan/MLFraud/blob/main/Wide_DeepWithCustomModel.ipynb\" target=\"_parent\"><img src=\"https://colab.research.google.com/assets/colab-badge.svg\" alt=\"Open In Colab\"/></a>"
      ]
    },
    {
      "cell_type": "markdown",
      "metadata": {
        "id": "5A0zdg0X8x_U"
      },
      "source": [
        "Load Dataset"
      ]
    },
    {
      "cell_type": "code",
      "metadata": {
        "colab": {
          "base_uri": "https://localhost:8080/",
          "height": 164
        },
        "id": "I5mg2uvg8sX4",
        "outputId": "e3680756-b678-4852-c3bd-48e8195f86ac"
      },
      "source": [
        "#https://medium.com/ml-book/train-tf-keras-model-using-feature-coulmn-8de12e65ddec\r\n",
        "import numpy as np\r\n",
        "import pandas as pd\r\n",
        "import requests \r\n",
        "import io\r\n",
        "from tensorflow import feature_column as fc\r\n",
        "import tensorflow as tf\r\n",
        "from sklearn.model_selection import train_test_split\r\n",
        "\r\n",
        "def get_scal(feature):\r\n",
        "  def minmax(x):\r\n",
        "    mini = train[feature].min()\r\n",
        "    maxi = train[feature].max()\r\n",
        "    return (x - mini)/(maxi-mini)\r\n",
        "  return(minmax)\r\n",
        "url=\"https://raw.githubusercontent.com/faikozcan/MLFraud/main/dataFiles/Fraud_DataWithCountry.csv\"\r\n",
        "s=requests.get(url).content\r\n",
        "\r\n",
        "\r\n",
        "\r\n",
        "#,usecols=[\"user_id\",\"signup_time\",\"purchase_time\",\"purchase_value\",\"device_id\",\"source\",\"browser\",\"sex\",\"age\",\"ip_address\",\"ip_country\",\"class\"]\r\n",
        "df=pd.read_csv(io.StringIO(s.decode('utf-8')),sep = \",\",usecols=['purchase_value','user_id','device_id','ip_country','age','sex','source','browser','class'])\r\n",
        "df.head(10)\r\n",
        "df.astype(object).describe()"
      ],
      "execution_count": 4,
      "outputs": [
        {
          "output_type": "execute_result",
          "data": {
            "text/html": [
              "<div>\n",
              "<style scoped>\n",
              "    .dataframe tbody tr th:only-of-type {\n",
              "        vertical-align: middle;\n",
              "    }\n",
              "\n",
              "    .dataframe tbody tr th {\n",
              "        vertical-align: top;\n",
              "    }\n",
              "\n",
              "    .dataframe thead th {\n",
              "        text-align: right;\n",
              "    }\n",
              "</style>\n",
              "<table border=\"1\" class=\"dataframe\">\n",
              "  <thead>\n",
              "    <tr style=\"text-align: right;\">\n",
              "      <th></th>\n",
              "      <th>user_id</th>\n",
              "      <th>purchase_value</th>\n",
              "      <th>device_id</th>\n",
              "      <th>source</th>\n",
              "      <th>browser</th>\n",
              "      <th>sex</th>\n",
              "      <th>age</th>\n",
              "      <th>class</th>\n",
              "      <th>ip_country</th>\n",
              "    </tr>\n",
              "  </thead>\n",
              "  <tbody>\n",
              "    <tr>\n",
              "      <th>count</th>\n",
              "      <td>151112</td>\n",
              "      <td>151112</td>\n",
              "      <td>151112</td>\n",
              "      <td>151112</td>\n",
              "      <td>151112</td>\n",
              "      <td>151112</td>\n",
              "      <td>151112</td>\n",
              "      <td>151112</td>\n",
              "      <td>151112</td>\n",
              "    </tr>\n",
              "    <tr>\n",
              "      <th>unique</th>\n",
              "      <td>151112</td>\n",
              "      <td>122</td>\n",
              "      <td>137956</td>\n",
              "      <td>3</td>\n",
              "      <td>5</td>\n",
              "      <td>2</td>\n",
              "      <td>58</td>\n",
              "      <td>2</td>\n",
              "      <td>182</td>\n",
              "    </tr>\n",
              "    <tr>\n",
              "      <th>top</th>\n",
              "      <td>381673</td>\n",
              "      <td>28</td>\n",
              "      <td>EQYVNEGOFLAWK</td>\n",
              "      <td>SEO</td>\n",
              "      <td>Chrome</td>\n",
              "      <td>M</td>\n",
              "      <td>32</td>\n",
              "      <td>0</td>\n",
              "      <td>United States</td>\n",
              "    </tr>\n",
              "    <tr>\n",
              "      <th>freq</th>\n",
              "      <td>1</td>\n",
              "      <td>3328</td>\n",
              "      <td>20</td>\n",
              "      <td>60615</td>\n",
              "      <td>61432</td>\n",
              "      <td>88293</td>\n",
              "      <td>6666</td>\n",
              "      <td>136961</td>\n",
              "      <td>58049</td>\n",
              "    </tr>\n",
              "  </tbody>\n",
              "</table>\n",
              "</div>"
            ],
            "text/plain": [
              "        user_id  purchase_value      device_id  ...     age   class     ip_country\n",
              "count    151112          151112         151112  ...  151112  151112         151112\n",
              "unique   151112             122         137956  ...      58       2            182\n",
              "top      381673              28  EQYVNEGOFLAWK  ...      32       0  United States\n",
              "freq          1            3328             20  ...    6666  136961          58049\n",
              "\n",
              "[4 rows x 9 columns]"
            ]
          },
          "metadata": {
            "tags": []
          },
          "execution_count": 4
        }
      ]
    },
    {
      "cell_type": "markdown",
      "metadata": {
        "id": "HbEuQNUl8-3S"
      },
      "source": [
        "Balancing Dataset With Oversampling"
      ]
    },
    {
      "cell_type": "code",
      "metadata": {
        "colab": {
          "base_uri": "https://localhost:8080/",
          "height": 474
        },
        "id": "ajsmOGIr9BN1",
        "outputId": "4521bd5a-fa0c-4c47-d1b1-a08173b8b910"
      },
      "source": [
        "neg, pos = np.bincount(df['class'])\r\n",
        "total = neg + pos\r\n",
        "print('Examples:\\n    Total: {}\\n    Positive: {} ({:.2f}% of total)\\n'.format(\r\n",
        "    total, pos, 100 * pos / total))\r\n",
        "\r\n",
        "target_count = df['class'].value_counts()\r\n",
        "print('Class 0:', target_count[0])\r\n",
        "print('Class 1:', target_count[1])\r\n",
        "print('Proportion:', round(target_count[0] / target_count[1], 2), ': 1')\r\n",
        "\r\n",
        "target_count.plot(kind='bar', title='Count (target)')\r\n",
        "\r\n",
        "\r\n",
        "# Class count\r\n",
        "count_class_0, count_class_1 = df['class'].value_counts()\r\n",
        "\r\n",
        "# Random Over Sampling \r\n",
        "df_class_0 = df[df['class'] == 0]\r\n",
        "df_class_1 = df[df['class'] == 1]\r\n",
        "\r\n",
        "df_class_1_over = df_class_1.sample(count_class_0, replace=True)\r\n",
        "dfOverSampled = pd.concat([df_class_0, df_class_1_over], axis=0)\r\n",
        "print('Random over-sampling:')\r\n",
        "targetCountsOverSampled=dfOverSampled['class'].value_counts()\r\n",
        "print(targetCountsOverSampled)\r\n",
        "targetCountsOverSampled.plot(kind='bar', title='Count (target)');"
      ],
      "execution_count": 5,
      "outputs": [
        {
          "output_type": "stream",
          "text": [
            "Examples:\n",
            "    Total: 151112\n",
            "    Positive: 14151 (9.36% of total)\n",
            "\n",
            "Class 0: 136961\n",
            "Class 1: 14151\n",
            "Proportion: 9.68 : 1\n",
            "Random over-sampling:\n",
            "1    136961\n",
            "0    136961\n",
            "Name: class, dtype: int64\n"
          ],
          "name": "stdout"
        },
        {
          "output_type": "display_data",
          "data": {
            "image/png": "[encoded data removed]",
            "text/plain": [
              "<Figure size 432x288 with 1 Axes>"
            ]
          },
          "metadata": {
            "tags": [],
            "needs_background": "light"
          }
        }
      ]
    },
    {
      "cell_type": "markdown",
      "metadata": {
        "id": "gRPiIT5X-uFA"
      },
      "source": [
        "Split Training And Test Data"
      ]
    },
    {
      "cell_type": "code",
      "metadata": {
        "colab": {
          "base_uri": "https://localhost:8080/"
        },
        "id": "4IxBm1BP-sl1",
        "outputId": "320e945e-8fbd-4c83-eaa0-27233946e832"
      },
      "source": [
        "#split %20 of data for test, %80 of data for training\r\n",
        "train, test = train_test_split(dfOverSampled, test_size=0.20)\r\n",
        "\r\n",
        "#split training data, seperate %10 of training data for validation\r\n",
        "train, val = train_test_split(train, test_size=0.10)\r\n",
        "\r\n",
        "print(len(train), 'train examples')\r\n",
        "print(len(val), 'validation examples')\r\n",
        "print(len(test), 'test examples')"
      ],
      "execution_count": 7,
      "outputs": [
        {
          "output_type": "stream",
          "text": [
            "197223 train examples\n",
            "21914 validation examples\n",
            "54785 test examples\n"
          ],
          "name": "stdout"
        }
      ]
    },
    {
      "cell_type": "code",
      "metadata": {
        "colab": {
          "base_uri": "https://localhost:8080/"
        },
        "id": "ne3eKXei0ojo",
        "outputId": "134d7589-1f68-4458-c3ca-4a80f9e362e2"
      },
      "source": [
        "deep_columns=[]\r\n",
        "wide_columns = []\r\n",
        "categorical_columns = {}\r\n",
        "\r\n",
        "#numerical features\r\n",
        "num_c = ['purchase_value']\r\n",
        "#bucketized numerical features\r\n",
        "bucket_c =['age'] \r\n",
        "#categorical features\r\n",
        "cat_i_c =['sex','source','browser','ip_country'] #indicator columns\r\n",
        "cat_e_c =['device_id','user_id'] # embedding column\r\n",
        "\r\n",
        "\r\n",
        "for header in num_c:\r\n",
        "  scal_input_fn = get_scal(header)\r\n",
        "  deep_columns.append(fc.numeric_column(header, normalizer_fn=scal_input_fn))\r\n",
        "  \r\n",
        "  \r\n",
        "\r\n",
        "age = fc.numeric_column('age')\r\n",
        "\r\n",
        "# bucketized cols\r\n",
        "age_buckets = fc.bucketized_column(age, boundaries=[18, 25, 30, 35, 40, 45, 50, 55, 60, 65])\r\n",
        "deep_columns.append(age_buckets)\r\n",
        "\r\n",
        "#embedding columns\r\n",
        "for feature_name in cat_e_c:\r\n",
        "  vocabulary = df[feature_name].unique()\r\n",
        "  cat_c = fc.categorical_column_with_vocabulary_list(feature_name, vocabulary)\r\n",
        "  embeding = fc.embedding_column(cat_c, dimension=3)\r\n",
        "  deep_columns.append(embeding)\r\n",
        "\r\n",
        "#indicator columns\r\n",
        "for feature_name in cat_i_c:\r\n",
        "  vocabulary = df[feature_name].unique()\r\n",
        "  cat_c = fc.categorical_column_with_vocabulary_list(feature_name, vocabulary)\r\n",
        "  categorical_columns[feature_name]=cat_c\r\n",
        "  one_hot = fc.indicator_column(cat_c)\r\n",
        "  deep_columns.append(one_hot)\r\n",
        "\r\n",
        "#crossed columns\r\n",
        "vocabularyGender = df['sex'].unique()\r\n",
        "gender =fc.categorical_column_with_vocabulary_list('sex', vocabularyGender) \r\n",
        "crossed_feature = fc.crossed_column([age_buckets, gender], hash_bucket_size=18)\r\n",
        "crossed_feature = fc.indicator_column(crossed_feature)\r\n",
        "wide_columns.append(crossed_feature)\r\n",
        "\r\n",
        "# userid_X_source = fc.crossed_column(['user_id', 'source'], hash_bucket_size=400000)\r\n",
        "# crossed_feature1 = fc.indicator_column(userid_X_source)\r\n",
        "# wide_columns.append(crossed_feature1)\r\n",
        "\r\n",
        "# deviceId_X_browser = fc.crossed_column(['device_id', 'browser'], hash_bucket_size=600000)\r\n",
        "# crossed_feature2 = fc.indicator_column(deviceId_X_browser)\r\n",
        "# wide_columns.append(crossed_feature2)\r\n",
        "\r\n",
        "\r\n",
        "inputs = {\r\n",
        "    colname : tf.keras.layers.Input(name=colname, shape=(), dtype='float32') \\\r\n",
        "          for colname in ['purchase_value','age']\r\n",
        "}\r\n",
        "inputs.update ({\r\n",
        "    colname : tf.keras.layers.Input(name=colname, shape=(), dtype='int64') \\\r\n",
        "          for colname in ['user_id']\r\n",
        "})\r\n",
        "inputs.update({\r\n",
        "    colname : tf.keras.layers.Input(name=colname, shape=(), dtype='string') \\\r\n",
        "          for colname in ['browser','source','sex','device_id','ip_country']\r\n",
        "})\r\n",
        "# To apply L1 and L2 regularization, you can set dnn_optimizer to:\r\n",
        "custom_Optimizer=  tf.keras.optimizers.Adam(\r\n",
        "    learning_rate=0.01)\r\n",
        "\r\n",
        "def wide_and_deep_classifier(inputs, linear_feature_columns, dnn_feature_columns, dnn_hidden_units):\r\n",
        "    deep = tf.keras.layers.DenseFeatures(dnn_feature_columns)(inputs)\r\n",
        "    for numnodes in dnn_hidden_units:\r\n",
        "        deep = tf.keras.layers.Dense(numnodes, activation='relu')(deep)        \r\n",
        "    wide = tf.keras.layers.DenseFeatures(linear_feature_columns)(inputs)\r\n",
        "    both = tf.keras.layers.concatenate([deep, wide])\r\n",
        "    output = tf.keras.layers.Dense(1, activation='sigmoid')(both)\r\n",
        "    model = tf.keras.Model(inputs, output)\r\n",
        "    model.compile(optimizer=custom_Optimizer,\r\n",
        "                  loss='binary_crossentropy',\r\n",
        "                  metrics=['accuracy'])\r\n",
        "    return model\r\n",
        "model = wide_and_deep_classifier(inputs, wide_columns, deep_columns, [64, 16])\r\n",
        "\r\n",
        "\r\n",
        "\r\n",
        "\r\n",
        "\r\n",
        "# A utility method to create a tf.data dataset from a Pandas Dataframe\r\n",
        "def df_to_dataset(dataframe, shuffle=True, batch_size=32):\r\n",
        "  dataframe = dataframe.copy()\r\n",
        "  labels = dataframe.pop('class')\r\n",
        "  ds = tf.data.Dataset.from_tensor_slices((dict(dataframe), labels))\r\n",
        "  if shuffle:\r\n",
        "    ds = ds.shuffle(buffer_size=len(dataframe))\r\n",
        "  ds = ds.batch(batch_size)\r\n",
        "  return ds\r\n",
        "\r\n",
        "\r\n",
        "\r\n",
        "batch_size = 32\r\n",
        "train_ds = df_to_dataset(train,shuffle=True, batch_size=batch_size)\r\n",
        "val_ds = df_to_dataset(val, shuffle=False, batch_size=batch_size)\r\n",
        "test_ds = df_to_dataset(test, shuffle=False, batch_size=batch_size)\r\n",
        "\r\n",
        "\r\n",
        "\r\n",
        "callbacks = [\r\n",
        "    tf.keras.callbacks.TensorBoard(\r\n",
        "        log_dir='logs'\r\n",
        "    )\r\n",
        "]\r\n",
        "history = model.fit(train_ds,\r\n",
        "          validation_data=val_ds,\r\n",
        "          epochs=5,\r\n",
        "          verbose=1,\r\n",
        "          callbacks=callbacks)\r\n",
        "model.summary()\r\n",
        "model.evaluate(test_ds,steps=100)\r\n",
        "\r\n",
        "\r\n",
        "\r\n",
        "\r\n"
      ],
      "execution_count": 8,
      "outputs": [
        {
          "output_type": "stream",
          "text": [
            "Epoch 1/5\n",
            "6164/6164 [==============================] - 75s 12ms/step - loss: 0.4424 - accuracy: 0.7605 - val_loss: 0.0529 - val_accuracy: 0.9849\n",
            "Epoch 2/5\n",
            "6164/6164 [==============================] - 72s 12ms/step - loss: 0.0127 - accuracy: 0.9961 - val_loss: 0.0325 - val_accuracy: 0.9917\n",
            "Epoch 3/5\n",
            "6164/6164 [==============================] - 73s 12ms/step - loss: 0.0012 - accuracy: 0.9997 - val_loss: 0.0217 - val_accuracy: 0.9957\n",
            "Epoch 4/5\n",
            "6164/6164 [==============================] - 73s 12ms/step - loss: 1.1188e-04 - accuracy: 1.0000 - val_loss: 0.0842 - val_accuracy: 0.9923\n",
            "Epoch 5/5\n",
            "6164/6164 [==============================] - 73s 12ms/step - loss: 5.2950e-04 - accuracy: 1.0000 - val_loss: 0.1219 - val_accuracy: 0.9903\n",
            "Model: \"model\"\n",
            "__________________________________________________________________________________________________\n",
            "Layer (type)                    Output Shape         Param #     Connected to                     \n",
            "==================================================================================================\n",
            "age (InputLayer)                [(None,)]            0                                            \n",
            "__________________________________________________________________________________________________\n",
            "browser (InputLayer)            [(None,)]            0                                            \n",
            "__________________________________________________________________________________________________\n",
            "device_id (InputLayer)          [(None,)]            0                                            \n",
            "__________________________________________________________________________________________________\n",
            "ip_country (InputLayer)         [(None,)]            0                                            \n",
            "__________________________________________________________________________________________________\n",
            "purchase_value (InputLayer)     [(None,)]            0                                            \n",
            "__________________________________________________________________________________________________\n",
            "sex (InputLayer)                [(None,)]            0                                            \n",
            "__________________________________________________________________________________________________\n",
            "source (InputLayer)             [(None,)]            0                                            \n",
            "__________________________________________________________________________________________________\n",
            "user_id (InputLayer)            [(None,)]            0                                            \n",
            "__________________________________________________________________________________________________\n",
            "dense_features_2 (DenseFeatures (None, 210)          867204      age[0][0]                        \n",
            "                                                                 browser[0][0]                    \n",
            "                                                                 device_id[0][0]                  \n",
            "                                                                 ip_country[0][0]                 \n",
            "                                                                 purchase_value[0][0]             \n",
            "                                                                 sex[0][0]                        \n",
            "                                                                 source[0][0]                     \n",
            "                                                                 user_id[0][0]                    \n",
            "__________________________________________________________________________________________________\n",
            "dense (Dense)                   (None, 64)           13504       dense_features_2[0][0]           \n",
            "__________________________________________________________________________________________________\n",
            "dense_1 (Dense)                 (None, 16)           1040        dense[0][0]                      \n",
            "__________________________________________________________________________________________________\n",
            "dense_features_3 (DenseFeatures (None, 18)           0           age[0][0]                        \n",
            "                                                                 browser[0][0]                    \n",
            "                                                                 device_id[0][0]                  \n",
            "                                                                 ip_country[0][0]                 \n",
            "                                                                 purchase_value[0][0]             \n",
            "                                                                 sex[0][0]                        \n",
            "                                                                 source[0][0]                     \n",
            "                                                                 user_id[0][0]                    \n",
            "__________________________________________________________________________________________________\n",
            "concatenate (Concatenate)       (None, 34)           0           dense_1[0][0]                    \n",
            "                                                                 dense_features_3[0][0]           \n",
            "__________________________________________________________________________________________________\n",
            "dense_2 (Dense)                 (None, 1)            35          concatenate[0][0]                \n",
            "==================================================================================================\n",
            "Total params: 881,783\n",
            "Trainable params: 881,783\n",
            "Non-trainable params: 0\n",
            "__________________________________________________________________________________________________\n",
            "100/100 [==============================] - 0s 2ms/step - loss: 0.1072 - accuracy: 0.9906\n"
          ],
          "name": "stdout"
        },
        {
          "output_type": "execute_result",
          "data": {
            "text/plain": [
              "[0.10722137242555618, 0.9906250238418579]"
            ]
          },
          "metadata": {
            "tags": []
          },
          "execution_count": 8
        }
      ]
    }
  ]
}